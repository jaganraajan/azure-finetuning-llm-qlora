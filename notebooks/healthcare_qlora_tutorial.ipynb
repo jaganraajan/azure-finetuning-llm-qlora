{
 "cells": [
  {
   "cell_type": "markdown",
   "metadata": {},
   "source": [
    "# Healthcare QLoRA Fine-tuning Tutorial\n",
    "\n",
    "This notebook demonstrates how to fine-tune a language model using QLoRA for healthcare Q&A applications."
   ]
  },
  {
   "cell_type": "markdown",
   "metadata": {},
   "source": [
    "## Setup and Installation\n",
    "\n",
    "First, let's install the required dependencies:"
   ]
  },
  {
   "cell_type": "code",
   "execution_count": null,
   "metadata": {},
   "outputs": [],
   "source": [
    "# Install required packages (uncomment if needed)\n",
    "# !pip install -r ../requirements.txt"
   ]
  },
  {
   "cell_type": "code",
   "execution_count": null,
   "metadata": {},
   "outputs": [],
   "source": [
    "import sys\n",
    "import os\n",
    "from pathlib import Path\n",
    "\n",
    "# Add src to path\n",
    "sys.path.append(str(Path().parent / \"src\"))\n",
    "\n",
    "# Import our modules\n",
    "from azure_qlora_healthcare.data.processor import HealthcareDataProcessor\n",
    "from azure_qlora_healthcare.training.qlora_trainer import QLoRATrainer\n",
    "from azure_qlora_healthcare.utils.config import get_config\n",
    "from azure_qlora_healthcare.utils.logger import get_logger"
   ]
  },
  {
   "cell_type": "markdown",
   "metadata": {},
   "source": [
    "## 1. Data Preparation\n",
    "\n",
    "Let's start by loading and preparing our healthcare dataset:"
   ]
  },
  {
   "cell_type": "code",
   "execution_count": null,
   "metadata": {},
   "outputs": [],
   "source": [
    "# Initialize data processor\n",
    "data_processor = HealthcareDataProcessor()\n",
    "logger = get_logger(\"tutorial\")\n",
    "\n",
    "# Load sample dataset\n",
    "print(\"Loading sample healthcare dataset...\")\n",
    "dataset = data_processor._create_sample_dataset()\n",
    "\n",
    "print(f\"Dataset splits: {list(dataset.keys())}\")\n",
    "print(f\"Training examples: {len(dataset['train'])}\")\n",
    "print(f\"Validation examples: {len(dataset['validation'])}\")\n",
    "print(f\"Test examples: {len(dataset['test'])}\")"
   ]
  },
  {
   "cell_type": "code",
   "execution_count": null,
   "metadata": {},
   "outputs": [],
   "source": [
    "# Let's look at a sample example\n",
    "sample = dataset['train'][0]\n",
    "print(\"Sample Question:\", sample['input'])\n",
    "print(\"Sample Answer:\", sample['output'])\n",
    "print(\"Source:\", sample['source'])"
   ]
  },
  {
   "cell_type": "markdown",
   "metadata": {},
   "source": [
    "## 2. PHI Anonymization\n",
    "\n",
    "Let's test the PHI (Protected Health Information) anonymization feature:"
   ]
  },
  {
   "cell_type": "code",
   "execution_count": null,
   "metadata": {},
   "outputs": [],
   "source": [
    "# Test PHI anonymization\n",
    "sample_text = \"Patient John Doe, DOB 01/15/1980, called at 555-123-4567 about his medication.\"\n",
    "print(\"Original text:\", sample_text)\n",
    "\n",
    "anonymized_text = data_processor.anonymize_text(sample_text)\n",
    "print(\"Anonymized text:\", anonymized_text)"
   ]
  },
  {
   "cell_type": "markdown",
   "metadata": {},
   "source": [
    "## 3. Dataset Formatting\n",
    "\n",
    "Format the dataset for QLoRA training:"
   ]
  },
  {
   "cell_type": "code",
   "execution_count": null,
   "metadata": {},
   "outputs": [],
   "source": [
    "# Format dataset for training\n",
    "formatted_dataset = data_processor.format_for_training(dataset)\n",
    "\n",
    "# Look at formatted example\n",
    "formatted_sample = formatted_dataset['train'][0]\n",
    "print(\"Formatted training text:\")\n",
    "print(formatted_sample['text'])"
   ]
  },
  {
   "cell_type": "markdown",
   "metadata": {},
   "source": [
    "## 4. Model Configuration\n",
    "\n",
    "Set up the QLoRA trainer with appropriate configuration:"
   ]
  },
  {
   "cell_type": "code",
   "execution_count": null,
   "metadata": {},
   "outputs": [],
   "source": [
    "# Load configuration\n",
    "config = get_config()\n",
    "\n",
    "# Show current configuration\n",
    "print(\"Model configuration:\")\n",
    "print(f\"Base model: {config.get('model.base_model_name')}\")\n",
    "print(f\"Max length: {config.get('model.max_length')}\")\n",
    "print(f\"Batch size: {config.get('model.batch_size')}\")\n",
    "print(f\"Learning rate: {config.get('model.learning_rate')}\")\n",
    "\n",
    "print(\"\\nQLoRA configuration:\")\n",
    "print(f\"LoRA rank: {config.get('qlora.lora_r')}\")\n",
    "print(f\"LoRA alpha: {config.get('qlora.lora_alpha')}\")\n",
    "print(f\"LoRA dropout: {config.get('qlora.lora_dropout')}\")\n",
    "print(f\"Target modules: {config.get('qlora.target_modules')}\")"
   ]
  },
  {
   "cell_type": "markdown",
   "metadata": {},
   "source": [
    "## 5. Model Training (Demo)\n",
    "\n",
    "**Note**: Actual training requires GPU and significant time. This section shows the setup process."
   ]
  },
  {
   "cell_type": "code",
   "execution_count": null,
   "metadata": {},
   "outputs": [],
   "source": [
    "# Initialize trainer\n",
    "trainer = QLoRATrainer()\n",
    "\n",
    "print(\"Trainer configuration:\")\n",
    "print(f\"Model name: {trainer.config.model_name}\")\n",
    "print(f\"Max length: {trainer.config.max_length}\")\n",
    "print(f\"LoRA rank: {trainer.config.lora_r}\")\n",
    "\n",
    "# Note: Uncomment the following lines to actually train (requires GPU)\n",
    "# trainer.setup_model_and_tokenizer()\n",
    "# results = trainer.train(formatted_dataset, output_dir=\"./tutorial_output\")"
   ]
  },
  {
   "cell_type": "markdown",
   "metadata": {},
   "source": [
    "## 6. Model Evaluation (Demo)\n",
    "\n",
    "After training, you can evaluate the model:"
   ]
  },
  {
   "cell_type": "code",
   "execution_count": null,
   "metadata": {},
   "outputs": [],
   "source": [
    "# from azure_qlora_healthcare.evaluation.metrics import HealthcareEvaluator\n",
    "\n",
    "# # Initialize evaluator\n",
    "# evaluator = HealthcareEvaluator()\n",
    "\n",
    "# # Run evaluation (requires trained model)\n",
    "# # results = evaluator.evaluate_model(trainer, formatted_dataset['test'])\n",
    "# # print(\"Evaluation results:\", results['metrics'])\n",
    "\n",
    "print(\"Evaluation setup ready. See scripts/evaluate.py for full evaluation.\")"
   ]
  },
  {
   "cell_type": "markdown",
   "metadata": {},
   "source": [
    "## 7. Bot Deployment (Demo)\n",
    "\n",
    "After training, you can deploy the model as a healthcare bot:"
   ]
  },
  {
   "cell_type": "code",
   "execution_count": null,
   "metadata": {},
   "outputs": [],
   "source": [
    "# from azure_qlora_healthcare.deployment.bot_service import HealthcareBotManager\n",
    "\n",
    "# # Initialize bot (requires trained model)\n",
    "# # bot_manager = HealthcareBotManager(model_path=\"./tutorial_output\")\n",
    "# # bot = bot_manager.get_bot()\n",
    "\n",
    "print(\"Bot deployment setup ready. See scripts/run_bot.py for bot service.\")"
   ]
  },
  {
   "cell_type": "markdown",
   "metadata": {},
   "source": [
    "## 8. Azure ML Integration\n",
    "\n",
    "For production training, use Azure ML:"
   ]
  },
  {
   "cell_type": "code",
   "execution_count": null,
   "metadata": {},
   "outputs": [],
   "source": [
    "# from azure_qlora_healthcare.utils.azure_ml import AzureMLManager\n",
    "\n",
    "# # Azure ML setup (requires Azure credentials)\n",
    "# # azure_ml = AzureMLManager()\n",
    "# # job = azure_ml.submit_training_job(\"scripts/train.py\")\n",
    "\n",
    "print(\"Azure ML integration ready. Configure .env and run scripts/setup_azure.py\")"
   ]
  },
  {
   "cell_type": "markdown",
   "metadata": {},
   "source": [
    "## Summary\n",
    "\n",
    "This tutorial covered:\n",
    "\n",
    "1. **Data Processing**: Loading and preparing healthcare Q&A data\n",
    "2. **PHI Anonymization**: Protecting patient information\n",
    "3. **QLoRA Setup**: Configuring efficient fine-tuning\n",
    "4. **Training Pipeline**: Setting up model training\n",
    "5. **Evaluation**: Assessing model performance\n",
    "6. **Deployment**: Creating a healthcare bot\n",
    "7. **Azure Integration**: Scaling with cloud resources\n",
    "\n",
    "## Next Steps\n",
    "\n",
    "1. **Install dependencies**: `pip install -r requirements.txt`\n",
    "2. **Configure Azure**: Copy `.env.example` to `.env` and add your credentials\n",
    "3. **Run training**: `python scripts/train.py --data-path data/examples/sample_healthcare_qa.csv`\n",
    "4. **Evaluate model**: `python scripts/evaluate.py --model-path ./outputs/model`\n",
    "5. **Deploy bot**: `python scripts/run_bot.py --model-path ./outputs/model`\n",
    "\n",
    "For production use, ensure proper HIPAA compliance and data governance practices."
   ]
  }
 ],
 "metadata": {
  "kernelspec": {
   "display_name": "Python 3",
   "language": "python",
   "name": "python3"
  },
  "language_info": {
   "codemirror_mode": {
    "name": "ipython",
    "version": 3
   },
   "file_extension": ".py",
   "mimetype": "text/x-python",
   "name": "python",
   "nbconvert_exporter": "python",
   "pygments_lexer": "ipython3",
   "version": "3.9.0"
  }
 },
 "nbformat": 4,
 "nbformat_minor": 4
}